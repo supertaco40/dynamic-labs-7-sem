{
 "cells": [
  {
   "cell_type": "markdown",
   "id": "528d55c1-e531-4a63-9525-697a4f468bcd",
   "metadata": {},
   "source": [
    "# Лабораторная работа №5\n",
    "## ----------------------------------------------------------------------------------------------------------------------------------\n",
    "## Задание:\n",
    "1 . Провести классификацию найденного датасета, методами решающего дерева и случайного леса . В формате Markdown написать пояснения. Объяснить почему были выбраны именно такие гиперпараметры, была ли перекрестная проверка, и т.д."
   ]
  },
  {
   "cell_type": "markdown",
   "id": "5f769e6b-29b9-41d8-afdb-8fb12302d8b1",
   "metadata": {},
   "source": [
    "## Решение:\n",
    "#### Подключение библиотек"
   ]
  },
  {
   "cell_type": "code",
   "execution_count": 1,
   "id": "314ef0f7-9ba3-4fe6-8509-24f36244334b",
   "metadata": {},
   "outputs": [],
   "source": [
    "import pandas as pd\n",
    "import numpy as np\n",
    "from sklearn.preprocessing import LabelEncoder\n",
    "from sklearn.model_selection import train_test_split, GridSearchCV\n",
    "from sklearn.naive_bayes import GaussianNB, BernoulliNB, MultinomialNB\n",
    "from sklearn.tree import DecisionTreeClassifier\n",
    "from sklearn.ensemble import RandomForestClassifier\n",
    "from sklearn.metrics import accuracy_score, classification_report\n",
    "import matplotlib.pyplot as plt\n"
   ]
  },
  {
   "cell_type": "markdown",
   "id": "79e7624c-e0a1-4000-b2bf-70c0a7369fb3",
   "metadata": {},
   "source": [
    "#### Загрузка данных и вывод датасета\n"
   ]
  },
  {
   "cell_type": "code",
   "execution_count": 2,
   "id": "3faba3d5-8bfc-4890-80a4-1dc1a94752f5",
   "metadata": {},
   "outputs": [
    {
     "name": "stdout",
     "output_type": "stream",
     "text": [
      "             Timestamp Source IP Address Destination IP Address  Source Port  \\\n",
      "0  2023-05-30 06:33:58     103.216.15.12           84.9.164.252        31225   \n",
      "1  2020-08-26 07:08:30    78.199.217.198         66.191.137.154        17245   \n",
      "2  2022-11-13 08:23:25      63.79.210.48          198.219.82.17        16811   \n",
      "3  2023-07-02 10:38:46     163.42.196.10        101.228.192.255        20018   \n",
      "4  2023-07-16 13:11:07     71.166.185.76        189.243.174.238         6131   \n",
      "\n",
      "   Destination Port Protocol  Packet Length Packet Type Traffic Type  \\\n",
      "0             17616     ICMP            503        Data         HTTP   \n",
      "1             48166     ICMP           1174        Data         HTTP   \n",
      "2             53600      UDP            306     Control         HTTP   \n",
      "3             32534      UDP            385        Data         HTTP   \n",
      "4             26646      TCP           1462        Data          DNS   \n",
      "\n",
      "                                        Payload Data  ... Action Taken  \\\n",
      "0  Qui natus odio asperiores nam. Optio nobis ius...  ...       Logged   \n",
      "1  Aperiam quos modi officiis veritatis rem. Omni...  ...      Blocked   \n",
      "2  Perferendis sapiente vitae soluta. Hic delectu...  ...      Ignored   \n",
      "3  Totam maxime beatae expedita explicabo porro l...  ...      Blocked   \n",
      "4  Odit nesciunt dolorem nisi iste iusto. Animi v...  ...      Blocked   \n",
      "\n",
      "   Severity Level User Information  \\\n",
      "0             Low    Reyansh Dugal   \n",
      "1             Low       Sumer Rana   \n",
      "2             Low     Himmat Karpe   \n",
      "3          Medium       Fateh Kibe   \n",
      "4             Low     Dhanush Chad   \n",
      "\n",
      "                                  Device Information Network Segment  \\\n",
      "0  Mozilla/5.0 (compatible; MSIE 8.0; Windows NT ...       Segment A   \n",
      "1  Mozilla/5.0 (compatible; MSIE 8.0; Windows NT ...       Segment B   \n",
      "2  Mozilla/5.0 (compatible; MSIE 9.0; Windows NT ...       Segment C   \n",
      "3  Mozilla/5.0 (Macintosh; PPC Mac OS X 10_11_5; ...       Segment B   \n",
      "4  Mozilla/5.0 (compatible; MSIE 5.0; Windows NT ...       Segment C   \n",
      "\n",
      "    Geo-location Data Proxy Information Firewall Logs IDS/IPS Alerts  \\\n",
      "0  Jamshedpur, Sikkim      150.9.97.135      Log Data            NaN   \n",
      "1  Bilaspur, Nagaland               NaN      Log Data            NaN   \n",
      "2   Bokaro, Rajasthan    114.133.48.179      Log Data     Alert Data   \n",
      "3  Jaunpur, Rajasthan               NaN           NaN     Alert Data   \n",
      "4  Anantapur, Tripura     149.6.110.119           NaN     Alert Data   \n",
      "\n",
      "  Log Source  \n",
      "0     Server  \n",
      "1   Firewall  \n",
      "2   Firewall  \n",
      "3   Firewall  \n",
      "4   Firewall  \n",
      "\n",
      "[5 rows x 25 columns]\n"
     ]
    }
   ],
   "source": [
    "Dataset = pd.read_csv('cybersecurity_attacks.csv')  # Замени на путь к файлу\n",
    "print(Dataset.head())\n"
   ]
  },
  {
   "cell_type": "markdown",
   "id": "fd5acaea-7be1-4a21-9650-74323ffe4b4e",
   "metadata": {},
   "source": [
    "### Создание искомого столбца"
   ]
  },
  {
   "cell_type": "code",
   "execution_count": 3,
   "id": "031cb0bb-9f55-4a76-9c31-c1e5f6ad51bb",
   "metadata": {},
   "outputs": [
    {
     "name": "stdout",
     "output_type": "stream",
     "text": [
      "  Attack Type  Attack Type Encoded\n",
      "0     Malware                    2\n",
      "1     Malware                    2\n",
      "2        DDoS                    0\n",
      "3     Malware                    2\n",
      "4        DDoS                    0\n",
      "5     Malware                    2\n",
      "6        DDoS                    0\n",
      "7   Intrusion                    1\n",
      "8   Intrusion                    1\n",
      "9     Malware                    2\n"
     ]
    }
   ],
   "source": [
    "label_encoder = LabelEncoder()\n",
    "Dataset['Attack Type Encoded'] = label_encoder.fit_transform(Dataset['Attack Type'])\n",
    "print(Dataset[['Attack Type', 'Attack Type Encoded']].head(10))"
   ]
  },
  {
   "cell_type": "markdown",
   "id": "2e60756b-4fb6-4797-b669-ef649d909af4",
   "metadata": {},
   "source": [
    "### Нормализация данных"
   ]
  },
  {
   "cell_type": "code",
   "execution_count": 4,
   "id": "b1c75ed2-b1f2-4908-ba74-6f7a999c98a2",
   "metadata": {},
   "outputs": [
    {
     "name": "stdout",
     "output_type": "stream",
     "text": [
      "       Source Port  Destination Port  Packet Length  Anomaly Scores  \\\n",
      "0            31225             17616            503           28.67   \n",
      "1            17245             48166           1174           51.50   \n",
      "2            16811             53600            306           87.42   \n",
      "3            20018             32534            385           15.79   \n",
      "4             6131             26646           1462            0.52   \n",
      "...            ...               ...            ...             ...   \n",
      "39995        31005              6764           1428           39.28   \n",
      "39996         2553             28091           1184           27.25   \n",
      "39997        22505             25152           1043           31.01   \n",
      "39998        20013              2703            483           97.85   \n",
      "39999        50137             55575           1175           34.63   \n",
      "\n",
      "       Attack Type Encoded  \n",
      "0                        2  \n",
      "1                        2  \n",
      "2                        0  \n",
      "3                        2  \n",
      "4                        0  \n",
      "...                    ...  \n",
      "39995                    0  \n",
      "39996                    0  \n",
      "39997                    0  \n",
      "39998                    2  \n",
      "39999                    1  \n",
      "\n",
      "[40000 rows x 5 columns]\n"
     ]
    }
   ],
   "source": [
    "non_numeric_columns = Dataset.select_dtypes(exclude=['number']).columns.tolist()\n",
    "Dataset = Dataset.drop(columns=non_numeric_columns)\n",
    "\n",
    "# Заполнение пустых значений средними значениями\n",
    "columns_to_fill = ['Source Port', 'Destination Port', 'Packet Length', 'Anomaly Scores']\n",
    "for column in columns_to_fill:\n",
    "    mean_value = Dataset[column].mean()\n",
    "    Dataset[column].fillna(mean_value, inplace=True)\n",
    "\n",
    "print(Dataset)\n"
   ]
  },
  {
   "cell_type": "markdown",
   "id": "2ca0747d-dbc4-4271-85a4-ebd60d7608d6",
   "metadata": {},
   "source": [
    "### Поиск лучших метрик"
   ]
  },
  {
   "cell_type": "code",
   "execution_count": 5,
   "id": "b2bf1f85-a7d3-4464-86e9-901345adb33d",
   "metadata": {},
   "outputs": [
    {
     "name": "stdout",
     "output_type": "stream",
     "text": [
      "Decision Tree - Лучшее значение параметра: {'max_depth': None, 'min_samples_leaf': 2, 'min_samples_split': 5}, Точность на тесте: 0.3265\n",
      "Random Forest - Лучшие значения параметров: {'max_depth': 5, 'min_samples_leaf': 4, 'min_samples_split': 10, 'n_estimators': 100}, Точность на тесте: 0.326625\n"
     ]
    }
   ],
   "source": [
    "X = Dataset.drop(columns=['Attack Type Encoded'])\n",
    "y = Dataset['Attack Type Encoded']\n",
    "\n",
    "X_train, X_test, y_train, y_test = train_test_split(X, y, test_size=0.4, random_state=42)\n",
    "\n",
    "# Для решающего дерева\n",
    "decision_tree = DecisionTreeClassifier()\n",
    "dt_params = {\n",
    "    'max_depth': [None, 5, 10, 15, 20],\n",
    "    'min_samples_split': [2, 5, 10],\n",
    "    'min_samples_leaf': [1, 2, 4]\n",
    "}\n",
    "\n",
    "dt_grid_search = GridSearchCV(decision_tree, dt_params, cv=5)\n",
    "dt_grid_search.fit(X_train, y_train)\n",
    "\n",
    "y_pred_dt = dt_grid_search.predict(X_test)\n",
    "accuracy_dt = accuracy_score(y_test, y_pred_dt)\n",
    "\n",
    "print(f\"Decision Tree - Лучшее значение параметра: {dt_grid_search.best_params_}, Точность на тесте: {accuracy_dt}\")\n",
    "\n",
    "# Для случайного леса\n",
    "random_forest = RandomForestClassifier()\n",
    "rf_params = {\n",
    "    'n_estimators': [50, 100, 150, 200],\n",
    "    'max_depth': [None, 5, 10, 15],\n",
    "    'min_samples_split': [2, 5, 10],\n",
    "    'min_samples_leaf': [1, 2, 4]\n",
    "}\n",
    "\n",
    "rf_grid_search = GridSearchCV(random_forest, rf_params, cv=5)\n",
    "rf_grid_search.fit(X_train, y_train)\n",
    "\n",
    "y_pred_rf = rf_grid_search.predict(X_test)\n",
    "accuracy_rf = accuracy_score(y_test, y_pred_rf)\n",
    "\n",
    "print(f\"Random Forest - Лучшие значения параметров: {rf_grid_search.best_params_}, Точность на тесте: {accuracy_rf}\")\n"
   ]
  },
  {
   "cell_type": "markdown",
   "id": "2331c5ac-7fe7-44fe-9400-439efdde048e",
   "metadata": {},
   "source": [
    "### Обучение на лучших параметрах"
   ]
  },
  {
   "cell_type": "code",
   "execution_count": 6,
   "id": "f64d8c16-a98b-47d6-84f6-a69aa2e5b812",
   "metadata": {},
   "outputs": [
    {
     "name": "stdout",
     "output_type": "stream",
     "text": [
      "Decision Tree с лучшими параметрами - Точность на тесте: 0.3355625\n",
      "Classification Report для Decision Tree:\n",
      "              precision    recall  f1-score   support\n",
      "\n",
      "           0       0.33      0.40      0.36      5306\n",
      "           1       0.34      0.35      0.34      5416\n",
      "           2       0.35      0.26      0.30      5278\n",
      "\n",
      "    accuracy                           0.34     16000\n",
      "   macro avg       0.34      0.34      0.33     16000\n",
      "weighted avg       0.34      0.34      0.33     16000\n",
      "\n",
      "Random Forest с лучшими параметрами - Точность на тесте: 0.3345625\n",
      "Classification Report для Random Forest:\n",
      "              precision    recall  f1-score   support\n",
      "\n",
      "           0       0.33      0.38      0.35      5306\n",
      "           1       0.34      0.31      0.32      5416\n",
      "           2       0.33      0.32      0.32      5278\n",
      "\n",
      "    accuracy                           0.33     16000\n",
      "   macro avg       0.33      0.33      0.33     16000\n",
      "weighted avg       0.33      0.33      0.33     16000\n",
      "\n"
     ]
    }
   ],
   "source": [
    "from sklearn.metrics import classification_report\n",
    "\n",
    "# Для решающего дерева\n",
    "best_dt_params = {'max_depth': 20}\n",
    "best_decision_tree = DecisionTreeClassifier(**best_dt_params)\n",
    "best_decision_tree.fit(X_train, y_train)\n",
    "\n",
    "y_pred_best_dt = best_decision_tree.predict(X_test)\n",
    "accuracy_best_dt = accuracy_score(y_test, y_pred_best_dt)\n",
    "\n",
    "print(f\"Decision Tree с лучшими параметрами - Точность на тесте: {accuracy_best_dt}\")\n",
    "print(\"Classification Report для Decision Tree:\")\n",
    "print(classification_report(y_test, y_pred_best_dt))\n",
    "\n",
    "# Для случайного леса\n",
    "best_rf_params = {'max_depth': None, 'n_estimators': 50}\n",
    "best_random_forest = RandomForestClassifier(**best_rf_params)\n",
    "best_random_forest.fit(X_train, y_train)\n",
    "\n",
    "y_pred_best_rf = best_random_forest.predict(X_test)\n",
    "accuracy_best_rf = accuracy_score(y_test, y_pred_best_rf)\n",
    "\n",
    "print(f\"Random Forest с лучшими параметрами - Точность на тесте: {accuracy_best_rf}\")\n",
    "print(\"Classification Report для Random Forest:\")\n",
    "print(classification_report(y_test, y_pred_best_rf))\n"
   ]
  }
 ],
 "metadata": {
  "kernelspec": {
   "display_name": "Python 3 (ipykernel)",
   "language": "python",
   "name": "python3"
  },
  "language_info": {
   "codemirror_mode": {
    "name": "ipython",
    "version": 3
   },
   "file_extension": ".py",
   "mimetype": "text/x-python",
   "name": "python",
   "nbconvert_exporter": "python",
   "pygments_lexer": "ipython3",
   "version": "3.9.12"
  }
 },
 "nbformat": 4,
 "nbformat_minor": 5
}
