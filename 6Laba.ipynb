{
  "cells": [
    {
      "cell_type": "markdown",
      "id": "a235b6ab-4500-42d9-bd83-30352174252f",
      "metadata": {
        "id": "a235b6ab-4500-42d9-bd83-30352174252f"
      },
      "source": [
        "# Лабораторная работа №6\n",
        "## Задание:\n",
        "1 . Провести классификацию найденного датасета, методами CatBoost . В формате Markdown написать пояснения. Объяснить почему были выбраны именно такие гиперпараметры, была ли перекрестная проверка, и т.д."
      ]
    },
    {
      "cell_type": "markdown",
      "id": "8796672a-1db3-48aa-a6ad-5d7ff72c7f5d",
      "metadata": {
        "id": "8796672a-1db3-48aa-a6ad-5d7ff72c7f5d"
      },
      "source": [
        "## Решение:\n",
        "### Подключение библиотек\n"
      ]
    },
    {
      "cell_type": "code",
      "execution_count": 1,
      "id": "341d81b7-569b-4cd9-84de-7afc92b81874",
      "metadata": {
        "colab": {
          "base_uri": "https://localhost:8080/"
        },
        "id": "341d81b7-569b-4cd9-84de-7afc92b81874",
        "outputId": "94ad9bd8-ded7-4988-901d-daf59a3817f7"
      },
      "outputs": [
        {
          "output_type": "stream",
          "name": "stdout",
          "text": [
            "Collecting catboost\n",
            "  Downloading catboost-1.2.2-cp310-cp310-manylinux2014_x86_64.whl (98.7 MB)\n",
            "\u001b[2K     \u001b[90m━━━━━━━━━━━━━━━━━━━━━━━━━━━━━━━━━━━━━━━━\u001b[0m \u001b[32m98.7/98.7 MB\u001b[0m \u001b[31m5.8 MB/s\u001b[0m eta \u001b[36m0:00:00\u001b[0m\n",
            "\u001b[?25hRequirement already satisfied: graphviz in /usr/local/lib/python3.10/dist-packages (from catboost) (0.20.1)\n",
            "Requirement already satisfied: matplotlib in /usr/local/lib/python3.10/dist-packages (from catboost) (3.7.1)\n",
            "Requirement already satisfied: numpy>=1.16.0 in /usr/local/lib/python3.10/dist-packages (from catboost) (1.23.5)\n",
            "Requirement already satisfied: pandas>=0.24 in /usr/local/lib/python3.10/dist-packages (from catboost) (1.5.3)\n",
            "Requirement already satisfied: scipy in /usr/local/lib/python3.10/dist-packages (from catboost) (1.11.4)\n",
            "Requirement already satisfied: plotly in /usr/local/lib/python3.10/dist-packages (from catboost) (5.15.0)\n",
            "Requirement already satisfied: six in /usr/local/lib/python3.10/dist-packages (from catboost) (1.16.0)\n",
            "Requirement already satisfied: python-dateutil>=2.8.1 in /usr/local/lib/python3.10/dist-packages (from pandas>=0.24->catboost) (2.8.2)\n",
            "Requirement already satisfied: pytz>=2020.1 in /usr/local/lib/python3.10/dist-packages (from pandas>=0.24->catboost) (2023.3.post1)\n",
            "Requirement already satisfied: contourpy>=1.0.1 in /usr/local/lib/python3.10/dist-packages (from matplotlib->catboost) (1.2.0)\n",
            "Requirement already satisfied: cycler>=0.10 in /usr/local/lib/python3.10/dist-packages (from matplotlib->catboost) (0.12.1)\n",
            "Requirement already satisfied: fonttools>=4.22.0 in /usr/local/lib/python3.10/dist-packages (from matplotlib->catboost) (4.46.0)\n",
            "Requirement already satisfied: kiwisolver>=1.0.1 in /usr/local/lib/python3.10/dist-packages (from matplotlib->catboost) (1.4.5)\n",
            "Requirement already satisfied: packaging>=20.0 in /usr/local/lib/python3.10/dist-packages (from matplotlib->catboost) (23.2)\n",
            "Requirement already satisfied: pillow>=6.2.0 in /usr/local/lib/python3.10/dist-packages (from matplotlib->catboost) (9.4.0)\n",
            "Requirement already satisfied: pyparsing>=2.3.1 in /usr/local/lib/python3.10/dist-packages (from matplotlib->catboost) (3.1.1)\n",
            "Requirement already satisfied: tenacity>=6.2.0 in /usr/local/lib/python3.10/dist-packages (from plotly->catboost) (8.2.3)\n",
            "Installing collected packages: catboost\n",
            "Successfully installed catboost-1.2.2\n"
          ]
        }
      ],
      "source": [
        "!pip install catboost\n",
        "\n",
        "import pandas as pd\n",
        "import numpy as np\n",
        "from sklearn.preprocessing import LabelEncoder\n",
        "from sklearn.model_selection import train_test_split, GridSearchCV\n",
        "from sklearn.neighbors import KNeighborsClassifier\n",
        "from sklearn.metrics import accuracy_score, classification_report\n",
        "from catboost import CatBoostClassifier\n",
        "import matplotlib.pyplot as plt\n"
      ]
    },
    {
      "cell_type": "markdown",
      "id": "1d93ec7d-274b-4fae-bcaa-a96011324a01",
      "metadata": {
        "id": "1d93ec7d-274b-4fae-bcaa-a96011324a01"
      },
      "source": [
        "### Загрузка данных и вывод датасета\n"
      ]
    },
    {
      "cell_type": "code",
      "execution_count": 2,
      "id": "3b2bc619-4e42-4173-a1d3-b05a1466b791",
      "metadata": {
        "colab": {
          "base_uri": "https://localhost:8080/"
        },
        "id": "3b2bc619-4e42-4173-a1d3-b05a1466b791",
        "outputId": "d61e9bca-7f83-41d1-d6a6-ac5ca786d43f"
      },
      "outputs": [
        {
          "output_type": "stream",
          "name": "stdout",
          "text": [
            "             Timestamp Source IP Address Destination IP Address  Source Port  \\\n",
            "0  2023-05-30 06:33:58     103.216.15.12           84.9.164.252        31225   \n",
            "1  2020-08-26 07:08:30    78.199.217.198         66.191.137.154        17245   \n",
            "2  2022-11-13 08:23:25      63.79.210.48          198.219.82.17        16811   \n",
            "3  2023-07-02 10:38:46     163.42.196.10        101.228.192.255        20018   \n",
            "4  2023-07-16 13:11:07     71.166.185.76        189.243.174.238         6131   \n",
            "\n",
            "   Destination Port Protocol  Packet Length Packet Type Traffic Type  \\\n",
            "0             17616     ICMP            503        Data         HTTP   \n",
            "1             48166     ICMP           1174        Data         HTTP   \n",
            "2             53600      UDP            306     Control         HTTP   \n",
            "3             32534      UDP            385        Data         HTTP   \n",
            "4             26646      TCP           1462        Data          DNS   \n",
            "\n",
            "                                        Payload Data  ... Action Taken  \\\n",
            "0  Qui natus odio asperiores nam. Optio nobis ius...  ...       Logged   \n",
            "1  Aperiam quos modi officiis veritatis rem. Omni...  ...      Blocked   \n",
            "2  Perferendis sapiente vitae soluta. Hic delectu...  ...      Ignored   \n",
            "3  Totam maxime beatae expedita explicabo porro l...  ...      Blocked   \n",
            "4  Odit nesciunt dolorem nisi iste iusto. Animi v...  ...      Blocked   \n",
            "\n",
            "   Severity Level User Information  \\\n",
            "0             Low    Reyansh Dugal   \n",
            "1             Low       Sumer Rana   \n",
            "2             Low     Himmat Karpe   \n",
            "3          Medium       Fateh Kibe   \n",
            "4             Low     Dhanush Chad   \n",
            "\n",
            "                                  Device Information Network Segment  \\\n",
            "0  Mozilla/5.0 (compatible; MSIE 8.0; Windows NT ...       Segment A   \n",
            "1  Mozilla/5.0 (compatible; MSIE 8.0; Windows NT ...       Segment B   \n",
            "2  Mozilla/5.0 (compatible; MSIE 9.0; Windows NT ...       Segment C   \n",
            "3  Mozilla/5.0 (Macintosh; PPC Mac OS X 10_11_5; ...       Segment B   \n",
            "4  Mozilla/5.0 (compatible; MSIE 5.0; Windows NT ...       Segment C   \n",
            "\n",
            "    Geo-location Data Proxy Information Firewall Logs IDS/IPS Alerts  \\\n",
            "0  Jamshedpur, Sikkim      150.9.97.135      Log Data            NaN   \n",
            "1  Bilaspur, Nagaland               NaN      Log Data            NaN   \n",
            "2   Bokaro, Rajasthan    114.133.48.179      Log Data     Alert Data   \n",
            "3  Jaunpur, Rajasthan               NaN           NaN     Alert Data   \n",
            "4  Anantapur, Tripura     149.6.110.119           NaN     Alert Data   \n",
            "\n",
            "  Log Source  \n",
            "0     Server  \n",
            "1   Firewall  \n",
            "2   Firewall  \n",
            "3   Firewall  \n",
            "4   Firewall  \n",
            "\n",
            "[5 rows x 25 columns]\n"
          ]
        }
      ],
      "source": [
        "Dataset = pd.read_csv('cybersecurity_attacks.csv')  # Замени на путь к файлу\n",
        "print(Dataset.head())"
      ]
    },
    {
      "cell_type": "markdown",
      "id": "71da0e52-d21b-4e38-b4f3-dbd58aa675c6",
      "metadata": {
        "id": "71da0e52-d21b-4e38-b4f3-dbd58aa675c6"
      },
      "source": [
        "### Создание искомого столбца"
      ]
    },
    {
      "cell_type": "code",
      "execution_count": 3,
      "id": "eb0a6456-913b-42fc-9991-2fe43ecdeae1",
      "metadata": {
        "colab": {
          "base_uri": "https://localhost:8080/"
        },
        "id": "eb0a6456-913b-42fc-9991-2fe43ecdeae1",
        "outputId": "072afd24-e54f-480f-f993-b1ea94b2b3fa"
      },
      "outputs": [
        {
          "output_type": "stream",
          "name": "stdout",
          "text": [
            "  Attack Type  Attack Type Encoded\n",
            "0     Malware                    2\n",
            "1     Malware                    2\n",
            "2        DDoS                    0\n",
            "3     Malware                    2\n",
            "4        DDoS                    0\n",
            "5     Malware                    2\n",
            "6        DDoS                    0\n",
            "7   Intrusion                    1\n",
            "8   Intrusion                    1\n",
            "9     Malware                    2\n"
          ]
        }
      ],
      "source": [
        "label_encoder = LabelEncoder()\n",
        "Dataset['Attack Type Encoded'] = label_encoder.fit_transform(Dataset['Attack Type'])\n",
        "print(Dataset[['Attack Type', 'Attack Type Encoded']].head(10))"
      ]
    },
    {
      "cell_type": "markdown",
      "id": "3e5e7a43-a32f-4057-91d5-681b2b766c20",
      "metadata": {
        "id": "3e5e7a43-a32f-4057-91d5-681b2b766c20"
      },
      "source": [
        "### Нормализация данных"
      ]
    },
    {
      "cell_type": "code",
      "execution_count": 4,
      "id": "b9689131-3a6a-408f-b51c-0c12106c169e",
      "metadata": {
        "colab": {
          "base_uri": "https://localhost:8080/"
        },
        "id": "b9689131-3a6a-408f-b51c-0c12106c169e",
        "outputId": "69e7bd9c-f37d-4a87-9565-0608f3af5ae9"
      },
      "outputs": [
        {
          "output_type": "stream",
          "name": "stdout",
          "text": [
            "<class 'pandas.core.frame.DataFrame'>\n",
            "RangeIndex: 40000 entries, 0 to 39999\n",
            "Data columns (total 5 columns):\n",
            " #   Column               Non-Null Count  Dtype  \n",
            "---  ------               --------------  -----  \n",
            " 0   Source Port          40000 non-null  int64  \n",
            " 1   Destination Port     40000 non-null  int64  \n",
            " 2   Packet Length        40000 non-null  int64  \n",
            " 3   Anomaly Scores       40000 non-null  float64\n",
            " 4   Attack Type Encoded  40000 non-null  int64  \n",
            "dtypes: float64(1), int64(4)\n",
            "memory usage: 1.5 MB\n"
          ]
        }
      ],
      "source": [
        "non_numeric_columns = Dataset.select_dtypes(exclude=['number']).columns.tolist()\n",
        "Dataset = Dataset.drop(columns=non_numeric_columns)\n",
        "\n",
        "# Заполнение пустых значений средними значениями\n",
        "columns_to_fill = ['Source Port', 'Destination Port', 'Packet Length', 'Anomaly Scores']\n",
        "for column in columns_to_fill:\n",
        "    mean_value = Dataset[column].mean()\n",
        "    Dataset[column].fillna(mean_value, inplace=True)\n",
        "Dataset.info()"
      ]
    },
    {
      "cell_type": "markdown",
      "id": "d14458c9-4f79-4d40-a760-7698d215aac7",
      "metadata": {
        "id": "d14458c9-4f79-4d40-a760-7698d215aac7"
      },
      "source": [
        "### Поиск лучшей метрики и количества соседей"
      ]
    },
    {
      "cell_type": "code",
      "execution_count": 5,
      "id": "f2695c1b-fc45-414c-8d12-d2973950b3c4",
      "metadata": {
        "colab": {
          "base_uri": "https://localhost:8080/"
        },
        "id": "f2695c1b-fc45-414c-8d12-d2973950b3c4",
        "outputId": "8d3ab82d-7934-421e-b963-9c8841ada87c"
      },
      "outputs": [
        {
          "output_type": "stream",
          "name": "stdout",
          "text": [
            "Лучшие параметры для CatBoost: {'depth': 4, 'iterations': 200, 'learning_rate': 0.05}\n"
          ]
        }
      ],
      "source": [
        "X = Dataset.drop(columns=['Attack Type Encoded'])\n",
        "y = Dataset['Attack Type Encoded']\n",
        "\n",
        "X_train, X_test, y_train, y_test = train_test_split(X, y, test_size=0.4, random_state=42)\n",
        "\n",
        "# Параметры для настройки CatBoost\n",
        "catboost_params = {\n",
        "    'iterations': [100, 200, 300],\n",
        "    'learning_rate': [0.01, 0.05, 0.1],\n",
        "    'depth': [4, 6, 8]\n",
        "}\n",
        "\n",
        "# Создание модели CatBoost\n",
        "catboost_model = CatBoostClassifier(verbose=False)\n",
        "\n",
        "# Подбор лучших параметров с помощью GridSearchCV\n",
        "catboost_grid_search = GridSearchCV(catboost_model, catboost_params, cv=5)\n",
        "catboost_grid_search.fit(X_train, y_train)\n",
        "\n",
        "# Лучшие параметры\n",
        "best_catboost_params = catboost_grid_search.best_params_\n",
        "print(f\"Лучшие параметры для CatBoost: {best_catboost_params}\")\n"
      ]
    },
    {
      "cell_type": "markdown",
      "id": "9e299958-c745-4e2e-b871-4d648e6e2510",
      "metadata": {
        "id": "9e299958-c745-4e2e-b871-4d648e6e2510"
      },
      "source": [
        "#### Обучение на лучших метриках и количестве соседей"
      ]
    },
    {
      "cell_type": "code",
      "execution_count": 6,
      "id": "e2aff059-42b7-48f1-9f1a-f0f2604dfa18",
      "metadata": {
        "colab": {
          "base_uri": "https://localhost:8080/"
        },
        "id": "e2aff059-42b7-48f1-9f1a-f0f2604dfa18",
        "outputId": "0b59c071-b228-4c3b-8c6b-be633995f266"
      },
      "outputs": [
        {
          "output_type": "stream",
          "name": "stdout",
          "text": [
            "Точность CatBoost на тестовых данных: 0.32875\n",
            "Classification Report для CatBoost:\n",
            "              precision    recall  f1-score   support\n",
            "\n",
            "           0       0.33      0.40      0.36      5306\n",
            "           1       0.34      0.22      0.26      5416\n",
            "           2       0.33      0.37      0.35      5278\n",
            "\n",
            "    accuracy                           0.33     16000\n",
            "   macro avg       0.33      0.33      0.32     16000\n",
            "weighted avg       0.33      0.33      0.32     16000\n",
            "\n"
          ]
        }
      ],
      "source": [
        "# Переобучение модели с лучшими параметрами на всем тренировочном наборе данных\n",
        "best_catboost_model = CatBoostClassifier(**best_catboost_params, verbose=False)\n",
        "best_catboost_model.fit(X_train, y_train)\n",
        "\n",
        "# Предсказание на тестовых данных\n",
        "y_pred_catboost = best_catboost_model.predict(X_test)\n",
        "\n",
        "# Оценка точности\n",
        "accuracy_catboost = accuracy_score(y_test, y_pred_catboost)\n",
        "print(f\"Точность CatBoost на тестовых данных: {accuracy_catboost}\")\n",
        "\n",
        "# Отчет о классификации для CatBoost\n",
        "print(\"Classification Report для CatBoost:\")\n",
        "print(classification_report(y_test, y_pred_catboost))"
      ]
    }
  ],
  "metadata": {
    "kernelspec": {
      "display_name": "Python 3 (ipykernel)",
      "language": "python",
      "name": "python3"
    },
    "language_info": {
      "codemirror_mode": {
        "name": "ipython",
        "version": 3
      },
      "file_extension": ".py",
      "mimetype": "text/x-python",
      "name": "python",
      "nbconvert_exporter": "python",
      "pygments_lexer": "ipython3",
      "version": "3.9.12"
    },
    "colab": {
      "provenance": []
    }
  },
  "nbformat": 4,
  "nbformat_minor": 5
}