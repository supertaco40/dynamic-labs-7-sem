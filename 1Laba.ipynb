{
  "cells": [
    {
      "cell_type": "markdown",
      "id": "9a61d2c1",
      "metadata": {
        "id": "9a61d2c1"
      },
      "source": [
        "# Лабораторная работа №1\n",
        "## Задание:\n",
        "1. Найти набор данных (датасет) для классификации удовлетворяющий следующим условиям: более 10 000 строк, более 20 столбцов, разные типы в столбцах, обязательно наличие целевого признака (таргета).\n",
        "2. Провести классификацию найденного датасета, методом к- ближайших соседей. В формате Markdown писать пояснения. Объяснить почему были выбраны именно такие гиперпараметры, была ли перекрестная проверка, и т.д."
      ]
    },
    {
      "cell_type": "markdown",
      "id": "ed1c15d3",
      "metadata": {
        "id": "ed1c15d3"
      },
      "source": [
        "### Подключение библеотек\n"
      ]
    },
    {
      "cell_type": "code",
      "execution_count": 2,
      "id": "4f5f22e4",
      "metadata": {
        "id": "4f5f22e4"
      },
      "outputs": [],
      "source": [
        "import pandas as pd\n",
        "import numpy as np\n",
        "from sklearn.preprocessing import LabelEncoder\n",
        "from sklearn.model_selection import train_test_split, GridSearchCV\n",
        "from sklearn.neighbors import KNeighborsClassifier\n",
        "from sklearn.metrics import accuracy_score, classification_report"
      ]
    },
    {
      "cell_type": "markdown",
      "id": "ed156100",
      "metadata": {
        "id": "ed156100"
      },
      "source": [
        "### Загрузка данных в датасет\n"
      ]
    },
    {
      "cell_type": "code",
      "execution_count": 3,
      "id": "ba6e6a39",
      "metadata": {
        "colab": {
          "base_uri": "https://localhost:8080/"
        },
        "id": "ba6e6a39",
        "outputId": "b04272d7-9b6b-4846-850e-3fc286068c2b"
      },
      "outputs": [
        {
          "output_type": "stream",
          "name": "stdout",
          "text": [
            "             Timestamp Source IP Address Destination IP Address  Source Port  \\\n",
            "0  2023-05-30 06:33:58     103.216.15.12           84.9.164.252        31225   \n",
            "1  2020-08-26 07:08:30    78.199.217.198         66.191.137.154        17245   \n",
            "2  2022-11-13 08:23:25      63.79.210.48          198.219.82.17        16811   \n",
            "3  2023-07-02 10:38:46     163.42.196.10        101.228.192.255        20018   \n",
            "4  2023-07-16 13:11:07     71.166.185.76        189.243.174.238         6131   \n",
            "\n",
            "   Destination Port Protocol  Packet Length Packet Type Traffic Type  \\\n",
            "0             17616     ICMP            503        Data         HTTP   \n",
            "1             48166     ICMP           1174        Data         HTTP   \n",
            "2             53600      UDP            306     Control         HTTP   \n",
            "3             32534      UDP            385        Data         HTTP   \n",
            "4             26646      TCP           1462        Data          DNS   \n",
            "\n",
            "                                        Payload Data  ... Action Taken  \\\n",
            "0  Qui natus odio asperiores nam. Optio nobis ius...  ...       Logged   \n",
            "1  Aperiam quos modi officiis veritatis rem. Omni...  ...      Blocked   \n",
            "2  Perferendis sapiente vitae soluta. Hic delectu...  ...      Ignored   \n",
            "3  Totam maxime beatae expedita explicabo porro l...  ...      Blocked   \n",
            "4  Odit nesciunt dolorem nisi iste iusto. Animi v...  ...      Blocked   \n",
            "\n",
            "   Severity Level User Information  \\\n",
            "0             Low    Reyansh Dugal   \n",
            "1             Low       Sumer Rana   \n",
            "2             Low     Himmat Karpe   \n",
            "3          Medium       Fateh Kibe   \n",
            "4             Low     Dhanush Chad   \n",
            "\n",
            "                                  Device Information Network Segment  \\\n",
            "0  Mozilla/5.0 (compatible; MSIE 8.0; Windows NT ...       Segment A   \n",
            "1  Mozilla/5.0 (compatible; MSIE 8.0; Windows NT ...       Segment B   \n",
            "2  Mozilla/5.0 (compatible; MSIE 9.0; Windows NT ...       Segment C   \n",
            "3  Mozilla/5.0 (Macintosh; PPC Mac OS X 10_11_5; ...       Segment B   \n",
            "4  Mozilla/5.0 (compatible; MSIE 5.0; Windows NT ...       Segment C   \n",
            "\n",
            "    Geo-location Data Proxy Information Firewall Logs IDS/IPS Alerts  \\\n",
            "0  Jamshedpur, Sikkim      150.9.97.135      Log Data            NaN   \n",
            "1  Bilaspur, Nagaland               NaN      Log Data            NaN   \n",
            "2   Bokaro, Rajasthan    114.133.48.179      Log Data     Alert Data   \n",
            "3  Jaunpur, Rajasthan               NaN           NaN     Alert Data   \n",
            "4  Anantapur, Tripura     149.6.110.119           NaN     Alert Data   \n",
            "\n",
            "  Log Source  \n",
            "0     Server  \n",
            "1   Firewall  \n",
            "2   Firewall  \n",
            "3   Firewall  \n",
            "4   Firewall  \n",
            "\n",
            "[5 rows x 25 columns]\n"
          ]
        }
      ],
      "source": [
        "Dataset = pd.read_csv('cybersecurity_attacks.csv')  # Замени на путь к файлу\n",
        "print(Dataset.head())"
      ]
    },
    {
      "cell_type": "markdown",
      "id": "9777a82a",
      "metadata": {
        "id": "9777a82a"
      },
      "source": [
        "### Создаём искомый столбец"
      ]
    },
    {
      "cell_type": "code",
      "execution_count": 4,
      "id": "d420caf2",
      "metadata": {
        "colab": {
          "base_uri": "https://localhost:8080/"
        },
        "id": "d420caf2",
        "outputId": "51ba9331-0284-459d-b684-273ab9b86de5"
      },
      "outputs": [
        {
          "output_type": "stream",
          "name": "stdout",
          "text": [
            "  Attack Type  Attack Type Encoded\n",
            "0     Malware                    2\n",
            "1     Malware                    2\n",
            "2        DDoS                    0\n",
            "3     Malware                    2\n",
            "4        DDoS                    0\n",
            "5     Malware                    2\n",
            "6        DDoS                    0\n",
            "7   Intrusion                    1\n",
            "8   Intrusion                    1\n",
            "9     Malware                    2\n"
          ]
        }
      ],
      "source": [
        "label_encoder = LabelEncoder()\n",
        "Dataset['Attack Type Encoded'] = label_encoder.fit_transform(Dataset['Attack Type'])\n",
        "print(Dataset[['Attack Type', 'Attack Type Encoded']].head(10))"
      ]
    },
    {
      "cell_type": "markdown",
      "id": "7cf8a821",
      "metadata": {
        "id": "7cf8a821"
      },
      "source": [
        "### Нормализация данных"
      ]
    },
    {
      "cell_type": "code",
      "execution_count": 5,
      "id": "eeeaac80",
      "metadata": {
        "colab": {
          "base_uri": "https://localhost:8080/"
        },
        "id": "eeeaac80",
        "outputId": "89d07d67-2ac2-459b-b855-d0ba8141ec70"
      },
      "outputs": [
        {
          "output_type": "stream",
          "name": "stdout",
          "text": [
            "<class 'pandas.core.frame.DataFrame'>\n",
            "RangeIndex: 9404 entries, 0 to 9403\n",
            "Data columns (total 5 columns):\n",
            " #   Column               Non-Null Count  Dtype  \n",
            "---  ------               --------------  -----  \n",
            " 0   Source Port          9404 non-null   int64  \n",
            " 1   Destination Port     9404 non-null   int64  \n",
            " 2   Packet Length        9404 non-null   int64  \n",
            " 3   Anomaly Scores       9404 non-null   float64\n",
            " 4   Attack Type Encoded  9404 non-null   int64  \n",
            "dtypes: float64(1), int64(4)\n",
            "memory usage: 367.5 KB\n"
          ]
        }
      ],
      "source": [
        "non_numeric_columns = Dataset.select_dtypes(exclude=['number']).columns.tolist()\n",
        "Dataset = Dataset.drop(columns=non_numeric_columns)\n",
        "columns_to_fill = ['Source Port', 'Destination Port', 'Packet Length', 'Anomaly Scores']\n",
        "for column in columns_to_fill:\n",
        "    mean_value = Dataset[column].mean()\n",
        "    Dataset[column].fillna(mean_value, inplace=True)\n",
        "Dataset.info()"
      ]
    },
    {
      "cell_type": "markdown",
      "id": "17367104",
      "metadata": {
        "tags": [],
        "id": "17367104"
      },
      "source": [
        "### Поиск лучшей метрики и количества соседей"
      ]
    },
    {
      "cell_type": "code",
      "execution_count": 6,
      "id": "c5279dc8",
      "metadata": {
        "colab": {
          "base_uri": "https://localhost:8080/"
        },
        "id": "c5279dc8",
        "outputId": "81087c50-508e-44cd-9ce3-f8063f0f84ca"
      },
      "outputs": [
        {
          "output_type": "stream",
          "name": "stdout",
          "text": [
            "Лучшие параметры: Количество соседей = 5, Лучшая метрика = chebyshev\n"
          ]
        }
      ],
      "source": [
        "X = Dataset.drop(columns=['Attack Type Encoded'])\n",
        "y = Dataset['Attack Type Encoded']\n",
        "\n",
        "X_train, X_test, y_train, y_test = train_test_split(X, y, test_size=0.4, random_state=42)\n",
        "\n",
        "knn = KNeighborsClassifier()\n",
        "\n",
        "param_grid = {'n_neighbors': range(3, 40),\n",
        "              'metric': ['euclidean', 'manhattan', 'chebyshev', 'minkowski']}\n",
        "\n",
        "grid_search = GridSearchCV(knn, param_grid, cv=5, scoring='accuracy')\n",
        "\n",
        "grid_search.fit(X_train, y_train)\n",
        "\n",
        "best_params = grid_search.best_params_\n",
        "best_metric = best_params['metric']\n",
        "best_k = best_params['n_neighbors']\n",
        "\n",
        "accuracies = grid_search.cv_results_['mean_test_score']\n",
        "accuracies = np.array(accuracies).reshape(len(param_grid['n_neighbors']), len(param_grid['metric']))\n",
        "\n",
        "print(f\"Лучшие параметры: Количество соседей = {best_k}, Лучшая метрика = {best_metric}\")\n"
      ]
    },
    {
      "cell_type": "markdown",
      "id": "44d60e48-656c-482e-bf14-aa558fc6ac1a",
      "metadata": {
        "id": "44d60e48-656c-482e-bf14-aa558fc6ac1a"
      },
      "source": [
        "#### Повторное обучение на лучших метриках и количестве соседей"
      ]
    },
    {
      "cell_type": "code",
      "execution_count": 7,
      "id": "09c46a22",
      "metadata": {
        "scrolled": false,
        "id": "09c46a22",
        "colab": {
          "base_uri": "https://localhost:8080/"
        },
        "outputId": "6ea1d4cd-c2e2-4c40-c7f0-78b7647ba5f0"
      },
      "outputs": [
        {
          "output_type": "stream",
          "name": "stdout",
          "text": [
            "Точность модели с 37 соседями и метрикой euclidean: 0.3272195640616693\n",
            "              precision    recall  f1-score   support\n",
            "\n",
            "           0       0.34      0.45      0.38      1267\n",
            "           1       0.33      0.31      0.32      1286\n",
            "           2       0.31      0.22      0.26      1209\n",
            "\n",
            "    accuracy                           0.33      3762\n",
            "   macro avg       0.32      0.33      0.32      3762\n",
            "weighted avg       0.32      0.33      0.32      3762\n",
            "\n"
          ]
        }
      ],
      "source": [
        "knn = KNeighborsClassifier(n_neighbors=best_k, metric=best_metric)\n",
        "\n",
        "knn.fit(X_train, y_train)\n",
        "\n",
        "y_pred = knn.predict(X_test)\n",
        "\n",
        "accuracy = accuracy_score(y_test, y_pred)\n",
        "print(f\"Точность модели с 37 соседями и метрикой euclidean: {accuracy}\")\n",
        "report = classification_report(y_test, y_pred, zero_division = 1)\n",
        "print(report)"
      ]
    }
  ],
  "metadata": {
    "kernelspec": {
      "display_name": "Python 3 (ipykernel)",
      "language": "python",
      "name": "python3"
    },
    "language_info": {
      "codemirror_mode": {
        "name": "ipython",
        "version": 3
      },
      "file_extension": ".py",
      "mimetype": "text/x-python",
      "name": "python",
      "nbconvert_exporter": "python",
      "pygments_lexer": "ipython3",
      "version": "3.9.13"
    },
    "colab": {
      "provenance": []
    }
  },
  "nbformat": 4,
  "nbformat_minor": 5
}