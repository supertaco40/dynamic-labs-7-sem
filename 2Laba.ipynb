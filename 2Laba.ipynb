{
  "cells": [
    {
      "cell_type": "markdown",
      "id": "477be5a9",
      "metadata": {
        "id": "477be5a9"
      },
      "source": [
        "# Лабораторная работа 2\n",
        "## Задание:\n",
        "1. Провести классификацию найденного датасета, методом машины опорных векторов. В формате Markdown писать пояснения. Объяснить почему были выбраны именно такие гиперпараметры, была ли перекрестная проверка, и т.д."
      ]
    },
    {
      "cell_type": "markdown",
      "id": "b75055d1",
      "metadata": {
        "id": "b75055d1"
      },
      "source": [
        "### Подключение библиотек"
      ]
    },
    {
      "cell_type": "code",
      "execution_count": 9,
      "id": "90074ef4",
      "metadata": {
        "id": "90074ef4"
      },
      "outputs": [],
      "source": [
        "import pandas as pd\n",
        "from sklearn.model_selection import train_test_split, cross_val_score, StratifiedKFold, GridSearchCV\n",
        "from sklearn.preprocessing import StandardScaler, LabelEncoder\n",
        "from sklearn.metrics import accuracy_score, classification_report\n",
        "from sklearn.svm import SVC"
      ]
    },
    {
      "cell_type": "markdown",
      "id": "bcac48a6",
      "metadata": {
        "id": "bcac48a6"
      },
      "source": [
        "### Загрузка данных и подготовка датасета"
      ]
    },
    {
      "cell_type": "code",
      "execution_count": 14,
      "id": "01949f08",
      "metadata": {
        "id": "01949f08"
      },
      "outputs": [],
      "source": [
        "dataSet = pd.read_csv('cybersecurity_attacks.csv')\n",
        "\n",
        "label_encoder = LabelEncoder()\n",
        "dataSet['Attack Type Encoded'] = label_encoder.fit_transform(dataSet['Attack Type'])\n",
        "\n",
        "non_numeric_columns = dataSet.select_dtypes(exclude=['number']).columns.tolist()\n",
        "\n",
        "dataSet = dataSet.drop(columns=non_numeric_columns)\n",
        "dataSet.dropna(inplace=True)"
      ]
    },
    {
      "cell_type": "markdown",
      "id": "eb4a1eca",
      "metadata": {
        "id": "eb4a1eca"
      },
      "source": [
        "### Разделение данных и нормализация"
      ]
    },
    {
      "cell_type": "code",
      "execution_count": 15,
      "id": "74b5c8f4",
      "metadata": {
        "id": "74b5c8f4"
      },
      "outputs": [],
      "source": [
        "X = dataSet.drop('Attack Type Encoded', axis=1)\n",
        "y = dataSet['Attack Type Encoded']\n",
        "X_train, X_test, y_train, y_test = train_test_split(X, y, test_size=0.4, random_state=42)\n",
        "\n",
        "scaler = StandardScaler()\n",
        "X_train = scaler.fit_transform(X_train)\n",
        "X_test = scaler.transform(X_test)\n"
      ]
    },
    {
      "cell_type": "markdown",
      "id": "972313c6",
      "metadata": {
        "id": "972313c6"
      },
      "source": [
        "### Обучение и оценка качества на линейном ядре\n"
      ]
    },
    {
      "cell_type": "code",
      "execution_count": null,
      "id": "0d85ec49",
      "metadata": {
        "id": "0d85ec49"
      },
      "outputs": [],
      "source": [
        "param_grid = {'kernel': ['linear', 'rbf', 'sigmoid', 'poly'],\n",
        "              'C': [0.001, 0.01, 0.1, 1, 10],\n",
        "              'degree': [1, 2, 3, 4, 5, 6, 7]}\n",
        "\n",
        "svm_grid = GridSearchCV(SVC(), param_grid, cv=5, scoring='accuracy', n_jobs=-1)\n",
        "\n",
        "svm_grid.fit(X_test, y_test)\n",
        "\n",
        "best_params = svm_grid.best_params_\n",
        "best_kernel = best_params['kernel']\n",
        "best_C = best_params['C']\n",
        "best_degree = best_params['degree']\n",
        "\n",
        "print(f\"Лучшие параметры: Ядро = {best_kernel}, C = {best_C}, Degree = {best_degree}\")"
      ]
    },
    {
      "cell_type": "markdown",
      "id": "8c957d24",
      "metadata": {
        "id": "8c957d24"
      },
      "source": [
        "### Подбор гиперпараметра с помощью перекрестной проверки"
      ]
    },
    {
      "cell_type": "code",
      "execution_count": null,
      "id": "c7575556",
      "metadata": {
        "id": "c7575556"
      },
      "outputs": [],
      "source": [
        "svm_model = SVC(kernel='poly', degree=6, C=0.1)\n",
        "\n",
        "# Обучение модели\n",
        "svm_model.fit(X_train, y_train)\n",
        "\n",
        "# Предсказание на тестовом наборе\n",
        "y_pred = svm_model.predict(X_test)\n",
        "\n",
        "# Оценка модели\n",
        "accuracy = accuracy_score(y_test, y_pred)\n",
        "report = classification_report(y_test, y_pred, zero_division=1)\n",
        "\n",
        "print(f'Точность модели: {accuracy}')\n",
        "print(report)\n",
        "\n",
        "# Кросс-валидация\n",
        "stratified_kfold = StratifiedKFold(n_splits=2, shuffle=True, random_state=42)\n",
        "cross_val_scores = cross_val_score(svm_model, X_train, y_train, cv=stratified_kfold)\n",
        "\n",
        "print(f'Средняя точность перекрестной проверки: {cross_val_scores.mean()}')\n",
        "\n"
      ]
    }
  ],
  "metadata": {
    "kernelspec": {
      "display_name": "Python 3 (ipykernel)",
      "language": "python",
      "name": "python3"
    },
    "language_info": {
      "codemirror_mode": {
        "name": "ipython",
        "version": 3
      },
      "file_extension": ".py",
      "mimetype": "text/x-python",
      "name": "python",
      "nbconvert_exporter": "python",
      "pygments_lexer": "ipython3",
      "version": "3.9.13"
    },
    "colab": {
      "provenance": []
    }
  },
  "nbformat": 4,
  "nbformat_minor": 5
}