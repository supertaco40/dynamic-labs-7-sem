{
  "cells": [
    {
      "cell_type": "markdown",
      "id": "aab26f62-6a84-410d-94e5-652cc7cc4017",
      "metadata": {
        "id": "aab26f62-6a84-410d-94e5-652cc7cc4017"
      },
      "source": [
        "# Лабораторная работа №4\n",
        "## Задание:\n",
        "1 . Провести классификацию найденного датасета, методами наивного Байеса  . В формате Markdown написать пояснения. Объяснить почему были выбраны именно такие гиперпараметры, была ли перекрестная проверка, и т.д."
      ]
    },
    {
      "cell_type": "markdown",
      "id": "46b2f1a3-3ad3-4c8b-8745-a5682f9fb8cd",
      "metadata": {
        "id": "46b2f1a3-3ad3-4c8b-8745-a5682f9fb8cd"
      },
      "source": [
        "## Решение:\n",
        "#### Подключение библиотек\n"
      ]
    },
    {
      "cell_type": "code",
      "execution_count": 1,
      "id": "fc5d0a36-6ac8-4c4f-bb7d-ec0b65a8db3e",
      "metadata": {
        "id": "fc5d0a36-6ac8-4c4f-bb7d-ec0b65a8db3e"
      },
      "outputs": [],
      "source": [
        "import pandas as pd\n",
        "import numpy as np\n",
        "from sklearn.preprocessing import LabelEncoder\n",
        "from sklearn.model_selection import train_test_split, GridSearchCV\n",
        "from sklearn.naive_bayes import GaussianNB, BernoulliNB, MultinomialNB\n",
        "from sklearn.metrics import accuracy_score, classification_report\n",
        "from imblearn.under_sampling import RandomUnderSampler"
      ]
    },
    {
      "cell_type": "markdown",
      "id": "4483eecd-728b-42c9-bfde-4e81da683ee5",
      "metadata": {
        "id": "4483eecd-728b-42c9-bfde-4e81da683ee5"
      },
      "source": [
        "#### Загрузка данных и вывод датасета\n"
      ]
    },
    {
      "cell_type": "code",
      "execution_count": 2,
      "id": "746b6eaa-a9fd-4968-9e13-6e72a9403754",
      "metadata": {
        "colab": {
          "base_uri": "https://localhost:8080/"
        },
        "id": "746b6eaa-a9fd-4968-9e13-6e72a9403754",
        "outputId": "1e599899-1244-402f-ef9e-f8d39b0e575a"
      },
      "outputs": [
        {
          "output_type": "stream",
          "name": "stdout",
          "text": [
            "             Timestamp Source IP Address Destination IP Address  Source Port  \\\n",
            "0  2023-05-30 06:33:58     103.216.15.12           84.9.164.252        31225   \n",
            "1  2020-08-26 07:08:30    78.199.217.198         66.191.137.154        17245   \n",
            "2  2022-11-13 08:23:25      63.79.210.48          198.219.82.17        16811   \n",
            "3  2023-07-02 10:38:46     163.42.196.10        101.228.192.255        20018   \n",
            "4  2023-07-16 13:11:07     71.166.185.76        189.243.174.238         6131   \n",
            "\n",
            "   Destination Port Protocol  Packet Length Packet Type Traffic Type  \\\n",
            "0             17616     ICMP            503        Data         HTTP   \n",
            "1             48166     ICMP           1174        Data         HTTP   \n",
            "2             53600      UDP            306     Control         HTTP   \n",
            "3             32534      UDP            385        Data         HTTP   \n",
            "4             26646      TCP           1462        Data          DNS   \n",
            "\n",
            "                                        Payload Data  ... Action Taken  \\\n",
            "0  Qui natus odio asperiores nam. Optio nobis ius...  ...       Logged   \n",
            "1  Aperiam quos modi officiis veritatis rem. Omni...  ...      Blocked   \n",
            "2  Perferendis sapiente vitae soluta. Hic delectu...  ...      Ignored   \n",
            "3  Totam maxime beatae expedita explicabo porro l...  ...      Blocked   \n",
            "4  Odit nesciunt dolorem nisi iste iusto. Animi v...  ...      Blocked   \n",
            "\n",
            "   Severity Level User Information  \\\n",
            "0             Low    Reyansh Dugal   \n",
            "1             Low       Sumer Rana   \n",
            "2             Low     Himmat Karpe   \n",
            "3          Medium       Fateh Kibe   \n",
            "4             Low     Dhanush Chad   \n",
            "\n",
            "                                  Device Information Network Segment  \\\n",
            "0  Mozilla/5.0 (compatible; MSIE 8.0; Windows NT ...       Segment A   \n",
            "1  Mozilla/5.0 (compatible; MSIE 8.0; Windows NT ...       Segment B   \n",
            "2  Mozilla/5.0 (compatible; MSIE 9.0; Windows NT ...       Segment C   \n",
            "3  Mozilla/5.0 (Macintosh; PPC Mac OS X 10_11_5; ...       Segment B   \n",
            "4  Mozilla/5.0 (compatible; MSIE 5.0; Windows NT ...       Segment C   \n",
            "\n",
            "    Geo-location Data Proxy Information Firewall Logs IDS/IPS Alerts  \\\n",
            "0  Jamshedpur, Sikkim      150.9.97.135      Log Data            NaN   \n",
            "1  Bilaspur, Nagaland               NaN      Log Data            NaN   \n",
            "2   Bokaro, Rajasthan    114.133.48.179      Log Data     Alert Data   \n",
            "3  Jaunpur, Rajasthan               NaN           NaN     Alert Data   \n",
            "4  Anantapur, Tripura     149.6.110.119           NaN     Alert Data   \n",
            "\n",
            "  Log Source  \n",
            "0     Server  \n",
            "1   Firewall  \n",
            "2   Firewall  \n",
            "3   Firewall  \n",
            "4   Firewall  \n",
            "\n",
            "[5 rows x 25 columns]\n"
          ]
        }
      ],
      "source": [
        "Dataset = pd.read_csv('cybersecurity_attacks.csv')  # Замени на путь к файлу\n",
        "print(Dataset.head())"
      ]
    },
    {
      "cell_type": "markdown",
      "id": "a141c256-e55a-43a4-ad98-343e728d7fd1",
      "metadata": {
        "id": "a141c256-e55a-43a4-ad98-343e728d7fd1"
      },
      "source": [
        "### Создание искомых столбец"
      ]
    },
    {
      "cell_type": "code",
      "execution_count": 3,
      "id": "86b1028e-7229-4d20-8ddd-07c86626459b",
      "metadata": {
        "colab": {
          "base_uri": "https://localhost:8080/"
        },
        "id": "86b1028e-7229-4d20-8ddd-07c86626459b",
        "outputId": "dad291df-0efd-47d2-818b-29618a49882a"
      },
      "outputs": [
        {
          "output_type": "stream",
          "name": "stdout",
          "text": [
            "  Attack Type  Attack Type Encoded\n",
            "0     Malware                    2\n",
            "1     Malware                    2\n",
            "2        DDoS                    0\n",
            "3     Malware                    2\n",
            "4        DDoS                    0\n",
            "5     Malware                    2\n",
            "6        DDoS                    0\n",
            "7   Intrusion                    1\n",
            "8   Intrusion                    1\n",
            "9     Malware                    2\n"
          ]
        }
      ],
      "source": [
        "label_encoder = LabelEncoder()\n",
        "Dataset['Attack Type Encoded'] = label_encoder.fit_transform(Dataset['Attack Type'])\n",
        "print(Dataset[['Attack Type', 'Attack Type Encoded']].head(10))"
      ]
    },
    {
      "cell_type": "markdown",
      "id": "a530f51c-02aa-48d7-a398-cfcfb15e1c25",
      "metadata": {
        "id": "a530f51c-02aa-48d7-a398-cfcfb15e1c25"
      },
      "source": [
        "### Нормализация данных"
      ]
    },
    {
      "cell_type": "code",
      "execution_count": 4,
      "id": "8ea23b0c-6cb0-4e47-b85d-bb2e942e4a62",
      "metadata": {
        "colab": {
          "base_uri": "https://localhost:8080/"
        },
        "id": "8ea23b0c-6cb0-4e47-b85d-bb2e942e4a62",
        "outputId": "61544f33-13bd-4a54-b4f9-d0460b5e2b55"
      },
      "outputs": [
        {
          "output_type": "stream",
          "name": "stdout",
          "text": [
            "       Source Port  Destination Port  Packet Length  Anomaly Scores  \\\n",
            "0            31225             17616            503           28.67   \n",
            "1            17245             48166           1174           51.50   \n",
            "2            16811             53600            306           87.42   \n",
            "3            20018             32534            385           15.79   \n",
            "4             6131             26646           1462            0.52   \n",
            "...            ...               ...            ...             ...   \n",
            "39319        31005              6764           1428           39.28   \n",
            "39320         2553             28091           1184           27.25   \n",
            "39321        22505             25152           1043           31.01   \n",
            "39322        20013              2703            483           97.85   \n",
            "39323        50137             55575           1175           34.63   \n",
            "\n",
            "       Attack Type Encoded  \n",
            "0                        2  \n",
            "1                        2  \n",
            "2                        0  \n",
            "3                        2  \n",
            "4                        0  \n",
            "...                    ...  \n",
            "39319                    0  \n",
            "39320                    0  \n",
            "39321                    0  \n",
            "39322                    2  \n",
            "39323                    1  \n",
            "\n",
            "[39324 rows x 5 columns]\n"
          ]
        }
      ],
      "source": [
        "non_numeric_columns = Dataset.select_dtypes(exclude=['number']).columns.tolist()\n",
        "Dataset = Dataset.drop(columns=non_numeric_columns)\n",
        "\n",
        "# Заполнение пустых значений средними значениями\n",
        "columns_to_fill = ['Source Port', 'Destination Port', 'Packet Length', 'Anomaly Scores']\n",
        "for column in columns_to_fill:\n",
        "    mean_value = Dataset[column].mean()\n",
        "    Dataset[column].fillna(mean_value, inplace=True)\n",
        "\n",
        "print(Dataset)"
      ]
    },
    {
      "cell_type": "markdown",
      "id": "346c7ebb-f0e7-4938-8552-bac79ac97f7d",
      "metadata": {
        "id": "346c7ebb-f0e7-4938-8552-bac79ac97f7d"
      },
      "source": [
        "### Поиск лучших метрик"
      ]
    },
    {
      "cell_type": "code",
      "execution_count": 5,
      "id": "9faafc49-a602-41d2-9eb1-453cd5bb3aa4",
      "metadata": {
        "colab": {
          "base_uri": "https://localhost:8080/"
        },
        "id": "9faafc49-a602-41d2-9eb1-453cd5bb3aa4",
        "outputId": "7389808f-2f27-4e38-d1f8-b6f01bbf56a8"
      },
      "outputs": [
        {
          "output_type": "stream",
          "name": "stdout",
          "text": [
            "Лучшая модель: GaussianNB\n",
            "Лучшие параметры: {'alpha': 0.1, 'binarize': 0.2}\n"
          ]
        }
      ],
      "source": [
        "X = Dataset.drop('Attack Type Encoded', axis=1)\n",
        "y = Dataset['Attack Type Encoded']\n",
        "\n",
        "X_train, X_test, y_train, y_test = train_test_split(X, y, test_size=0.4, random_state=42)\n",
        "\n",
        "\n",
        "under_sampler = RandomUnderSampler(random_state=42)\n",
        "\n",
        "\n",
        "X_resampled, y_resampled = under_sampler.fit_resample(X_train, y_train)\n",
        "\n",
        "\n",
        "# Определение методов наивного байеса\n",
        "naive_bayes_models = {\n",
        "    'GaussianNB': GaussianNB(),\n",
        "    'MultinomialNB': MultinomialNB(),\n",
        "    'BernoulliNB': BernoulliNB(),\n",
        "}\n",
        "\n",
        "# Параметры для GridSearchCV\n",
        "param_grid = {\n",
        "    'GaussianNB': {},\n",
        "    'MultinomialNB': {'alpha': [0.1, 0.5, 1.0]},\n",
        "    'BernoulliNB': {'alpha': [0.1, 0.5, 1.0], 'binarize': [0.0, 0.1, 0.2]},\n",
        "}\n",
        "\n",
        "# Выбор метрики для оценки моделей\n",
        "scoring_metric = 'accuracy'\n",
        "\n",
        "# Обучение и оценка моделей с использованием GridSearchCV\n",
        "best_models = {}\n",
        "for model_name, model in naive_bayes_models.items():\n",
        "    grid_search = GridSearchCV(model, param_grid[model_name], scoring=scoring_metric, cv=5)\n",
        "    grid_search.fit(X_resampled, y_resampled)\n",
        "\n",
        "    best_models[model_name] = grid_search.best_estimator_\n",
        "# Оценка наилучшей модели на тестовом наборе\n",
        "best_model_name = max(best_models, key=lambda k: grid_search.cv_results_['mean_test_score'][grid_search.best_index_])\n",
        "best_model = best_models[best_model_name]\n",
        "\n",
        "\n",
        "# Вывод результатов\n",
        "print(f\"Лучшая модель: {best_model_name}\")\n",
        "print(f\"Лучшие параметры: {grid_search.best_params_}\")\n"
      ]
    },
    {
      "cell_type": "markdown",
      "id": "7937ee07-86c8-43ba-8782-d3b6bf14d2aa",
      "metadata": {
        "id": "7937ee07-86c8-43ba-8782-d3b6bf14d2aa"
      },
      "source": [
        "### обучение на лучших гиперпараметрах"
      ]
    },
    {
      "cell_type": "code",
      "execution_count": 6,
      "id": "f4cf8c00-5339-4226-af10-afe3f428306d",
      "metadata": {
        "colab": {
          "base_uri": "https://localhost:8080/"
        },
        "id": "f4cf8c00-5339-4226-af10-afe3f428306d",
        "outputId": "c3774674-111c-4bcd-9d84-20af78d1c45c"
      },
      "outputs": [
        {
          "output_type": "stream",
          "name": "stdout",
          "text": [
            "Точность модели: 0.3277813095994914\n",
            "              precision    recall  f1-score   support\n",
            "\n",
            "           0       0.32      0.32      0.32      5224\n",
            "           1       0.32      0.26      0.29      5253\n",
            "           2       0.33      0.40      0.37      5253\n",
            "\n",
            "    accuracy                           0.33     15730\n",
            "   macro avg       0.33      0.33      0.32     15730\n",
            "weighted avg       0.33      0.33      0.32     15730\n",
            "\n"
          ]
        }
      ],
      "source": [
        "# Retrain the best model on the entire dataset\n",
        "best_model.fit(X_resampled, y_resampled)\n",
        "\n",
        "# Make predictions on the entire dataset\n",
        "y_pred_full = best_model.predict(X_test)\n",
        "accuracy = accuracy_score(y_test, y_pred_full)\n",
        "classification_rep = classification_report(y_test, y_pred_full)\n",
        "print(f'Точность модели: {accuracy}')\n",
        "print(classification_rep)"
      ]
    },
    {
      "cell_type": "code",
      "execution_count": null,
      "id": "f59a05f8-affc-4ccc-9c09-c5c43585c741",
      "metadata": {
        "id": "f59a05f8-affc-4ccc-9c09-c5c43585c741"
      },
      "outputs": [],
      "source": []
    },
    {
      "cell_type": "code",
      "execution_count": null,
      "id": "07618228-0e4c-44c8-a989-0f5814992ee3",
      "metadata": {
        "id": "07618228-0e4c-44c8-a989-0f5814992ee3"
      },
      "outputs": [],
      "source": []
    },
    {
      "cell_type": "code",
      "execution_count": null,
      "id": "55182458-fc8f-4432-ac09-41f4eec70268",
      "metadata": {
        "id": "55182458-fc8f-4432-ac09-41f4eec70268"
      },
      "outputs": [],
      "source": []
    }
  ],
  "metadata": {
    "kernelspec": {
      "display_name": "Python 3 (ipykernel)",
      "language": "python",
      "name": "python3"
    },
    "language_info": {
      "codemirror_mode": {
        "name": "ipython",
        "version": 3
      },
      "file_extension": ".py",
      "mimetype": "text/x-python",
      "name": "python",
      "nbconvert_exporter": "python",
      "pygments_lexer": "ipython3",
      "version": "3.9.12"
    },
    "colab": {
      "provenance": []
    }
  },
  "nbformat": 4,
  "nbformat_minor": 5
}
